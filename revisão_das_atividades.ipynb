{
  "nbformat": 4,
  "nbformat_minor": 0,
  "metadata": {
    "colab": {
      "provenance": [],
      "authorship_tag": "ABX9TyNke9soLg7Xkigql/59iErr",
      "include_colab_link": true
    },
    "kernelspec": {
      "name": "python3",
      "display_name": "Python 3"
    },
    "language_info": {
      "name": "python"
    }
  },
  "cells": [
    {
      "cell_type": "markdown",
      "metadata": {
        "id": "view-in-github",
        "colab_type": "text"
      },
      "source": [
        "<a href=\"https://colab.research.google.com/github/Dani43antonio/Atividades/blob/main/revis%C3%A3o_das_atividades.ipynb\" target=\"_parent\"><img src=\"https://colab.research.google.com/assets/colab-badge.svg\" alt=\"Open In Colab\"/></a>"
      ]
    },
    {
      "cell_type": "code",
      "execution_count": null,
      "metadata": {
        "colab": {
          "base_uri": "https://localhost:8080/"
        },
        "id": "-9loSOWok0Zr",
        "outputId": "20c95223-c1db-46ee-8af0-472e08f8e049"
      },
      "outputs": [
        {
          "output_type": "stream",
          "name": "stdout",
          "text": [
            "digite primeira nota:7\n",
            "digite segunda nota:8\n",
            "7.5\n"
          ]
        }
      ],
      "source": [
        "#faça um algoritmo que receba 2 notas e calcule amedia\n",
        "n1=float(input(\"digite primeira nota:\"))\n",
        "n2=float(input(\"digite segunda nota:\"))\n",
        "media=(n1+n2)/2\n",
        "print(media)"
      ]
    },
    {
      "cell_type": "code",
      "source": [
        "#crie um algoritimo que leia um numero diferente de zero e dizer se é positivo ou negativo\n",
        "n=float(input(\"digite um numero diferente de zero\"))\n",
        "if n >0:\n",
        "  print(\"numero positivo\")\n",
        "else:\n",
        "  print(\"numero negativo\")"
      ],
      "metadata": {
        "colab": {
          "base_uri": "https://localhost:8080/"
        },
        "id": "bUFxZu90mTY6",
        "outputId": "d262093d-50f5-4cde-d1a1-b6891747e412"
      },
      "execution_count": null,
      "outputs": [
        {
          "output_type": "stream",
          "name": "stdout",
          "text": [
            "digite um numero diferente de zero-2\n",
            "numero negativo\n"
          ]
        }
      ]
    },
    {
      "cell_type": "code",
      "source": [
        "#ler a idade de uma pessoa e dizer am qual ano ela nasceu\n",
        "anoatual=int(input(\"digite ano atual:\"))\n",
        "idade=int(input(\"digite a sua idade:\"))\n",
        "anonascimento=(idade-anoatual)\n",
        "print(anonascimento)"
      ],
      "metadata": {
        "colab": {
          "base_uri": "https://localhost:8080/"
        },
        "id": "zboDmi-8naVs",
        "outputId": "81e7227d-9acc-4e26-d5f3-d5e23abf5a16"
      },
      "execution_count": null,
      "outputs": [
        {
          "output_type": "stream",
          "name": "stdout",
          "text": [
            "digite ano atual:2023\n",
            "digite a sua idade:22\n",
            "-2001\n"
          ]
        }
      ]
    },
    {
      "cell_type": "code",
      "source": [
        "#ler 3 numeros e dizer qual o maior entre eles\n",
        "n1=float(input(\"digite um primeiro numero:\"))\n",
        "n2=float(input(\"digite um segundo numero:\"))\n",
        "n3=float(input(\"digite um terceiro numero:\"))\n",
        "if n1>n2:\n",
        "    print(\"n1 é maior\")\n",
        "elif n1>n3:\n",
        "    print(\"n1 é maior\")\n",
        "elif n2>n1:\n",
        "    print(\"n2 é o maior\")\n",
        "elif n2>n3:\n",
        "    print(\"n2 é o maior\")"
      ],
      "metadata": {
        "colab": {
          "base_uri": "https://localhost:8080/"
        },
        "id": "hLrjJbwiox7H",
        "outputId": "f32a408c-329d-4eda-ee57-8de246c93d2e"
      },
      "execution_count": null,
      "outputs": [
        {
          "output_type": "stream",
          "name": "stdout",
          "text": [
            "digite um primeiro numero:5\n",
            "digite um segundo numero:8\n",
            "digite um terceiro numero:7\n",
            "n2 é o maior\n"
          ]
        }
      ]
    },
    {
      "cell_type": "code",
      "source": [
        "#ler o numero e dizer se é par ou impar tem alguma coisa errada\n",
        "numero=int(input(\"digite um numero:\"))\n",
        "if resto %2 == 0:\n",
        "    print(\"numero par\")\n",
        "else:\n",
        "    print(\"numero impar\")"
      ],
      "metadata": {
        "colab": {
          "base_uri": "https://localhost:8080/"
        },
        "id": "2geO6Os3qmfs",
        "outputId": "ba3aae40-e5cf-466f-a586-27dae95b4f1e"
      },
      "execution_count": null,
      "outputs": [
        {
          "output_type": "stream",
          "name": "stdout",
          "text": [
            "digite um numero:15\n",
            "numero par\n"
          ]
        }
      ]
    },
    {
      "cell_type": "code",
      "source": [
        "#ler 10 valores e calcular a media (vê se está correto)\n",
        "contador=0\n",
        "soma=0\n",
        "while numero <10:\n",
        "    numero=float(input(\"digite sua nota\"))\n",
        "    contador=contador+1\n",
        "    soma=soma+numero\n",
        "    media=soma/10\n",
        "print(f\"a media dos alunos é{media}\")"
      ],
      "metadata": {
        "colab": {
          "base_uri": "https://localhost:8080/"
        },
        "id": "JRA6ickZsZzO",
        "outputId": "b704d5e5-2bbb-45c2-858e-110ec68eee12"
      },
      "execution_count": null,
      "outputs": [
        {
          "output_type": "stream",
          "name": "stdout",
          "text": [
            "a media dos alunos é7.5\n"
          ]
        }
      ]
    },
    {
      "cell_type": "code",
      "source": [
        "n_alunos=int(input(\"digite quantidade de alunos\"))\n",
        "nota=float(input(\"digite a sua nota\"))\n",
        "while n_alunos<nota:\n"
      ],
      "metadata": {
        "id": "PVwn2PsbuJGI"
      },
      "execution_count": null,
      "outputs": []
    },
    {
      "cell_type": "markdown",
      "source": [
        "# Nova seção"
      ],
      "metadata": {
        "id": "J0stsR1UvKwY"
      }
    }
  ]
}